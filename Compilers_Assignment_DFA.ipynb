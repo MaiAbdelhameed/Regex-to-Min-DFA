{
  "nbformat": 4,
  "nbformat_minor": 0,
  "metadata": {
    "colab": {
      "provenance": [],
      "collapsed_sections": [
        "-1A2oi75Nsvx",
        "NcldoXOzFluN",
        "dqHsmjgRN4cA",
        "X53IsblJNfgm",
        "F7pfnAHHQFa_",
        "cJj9-I_zG0vy",
        "EfN_L4OYGrg8",
        "qRJVuD5bz7P4"
      ],
      "include_colab_link": true
    },
    "kernelspec": {
      "name": "python3",
      "display_name": "Python 3"
    },
    "language_info": {
      "name": "python"
    }
  },
  "cells": [
    {
      "cell_type": "markdown",
      "metadata": {
        "id": "view-in-github",
        "colab_type": "text"
      },
      "source": [
        "<a href=\"https://colab.research.google.com/github/MaiAbdelhameed/Regex-to-Min-DFA/blob/main/Compilers_Assignment_DFA.ipynb\" target=\"_parent\"><img src=\"https://colab.research.google.com/assets/colab-badge.svg\" alt=\"Open In Colab\"/></a>"
      ]
    },
    {
      "cell_type": "markdown",
      "source": [
        "# Implementation"
      ],
      "metadata": {
        "id": "EjCXzqE6ckGf"
      }
    },
    {
      "cell_type": "markdown",
      "source": [
        "## Part 1: Regex to NFA"
      ],
      "metadata": {
        "id": "-1A2oi75Nsvx"
      }
    },
    {
      "cell_type": "markdown",
      "source": [
        "### regex manipulation"
      ],
      "metadata": {
        "id": "NcldoXOzFluN"
      }
    },
    {
      "cell_type": "markdown",
      "source": [
        "Example:\n",
        "- handle concatination ✔\n",
        "- handle ranges ✔"
      ],
      "metadata": {
        "id": "rlP6ZtH_I3DP"
      }
    },
    {
      "cell_type": "code",
      "source": [
        "global input_lists\n",
        "input_lists = set()"
      ],
      "metadata": {
        "id": "2X76td8aFWsY"
      },
      "execution_count": 159,
      "outputs": []
    },
    {
      "cell_type": "code",
      "source": [
        "def check_ranges(st): # range be ma3na ay haga gowa for ex: [a-z] [abc] [ast] [a-z|0|1|2]     ASSUMPTION: only chars inside range (those will not be considered as operators *?|+∘) only opreator is -\n",
        "    res = []\n",
        "    l = [char for char in st]\n",
        "    operators = ['*','?','|','+','∘']\n",
        "\n",
        "\n",
        "    for ind, ch in enumerate(l):\n",
        "        if ch == '-':\n",
        "            if ind == 0: # -a\n",
        "                return False\n",
        "\n",
        "                # a-                -a                  a-                  *-                      -#\n",
        "            if  (ind == len(l)-1) or not l[ind-1] or not l[ind+1] or not l[ind-1].isalnum() or not l[ind+1].isalnum(): # error checking handles a- or a--\n",
        "                return False\n",
        "\n",
        "            if l[ind+1].isalpha() and l[ind-1].isalpha():\n",
        "\n",
        "                if (l[ind-1].islower() and l[ind+1].isupper()) or (l[ind+1].islower() and l[ind-1].isupper()): #handling a-Z A-b mismatch\n",
        "                    return False\n",
        "\n",
        "                if (l[ind-1] > l[ind+1]): #handling c-a or C-A\n",
        "                    return False\n",
        "\n",
        "            elif l[ind+1].isdigit() and l[ind-1].isdigit():\n",
        "                if (int(l[ind-1]) > int(l[ind+1])): # handle [9-0]\n",
        "                    return False\n",
        "\n",
        "            else: #error checkin handles a-9 or 1-z mismatch\n",
        "                return False\n",
        "\n",
        "    return ''.join(l)\n",
        "\n",
        "print(check_ranges(\"ab[a-zA-z0-9]\"))"
      ],
      "metadata": {
        "id": "JTX8fgYKcrkN",
        "colab": {
          "base_uri": "https://localhost:8080/"
        },
        "outputId": "8c598a6d-e3cb-4961-f2d0-3a9415ce3818"
      },
      "execution_count": 160,
      "outputs": [
        {
          "output_type": "stream",
          "name": "stdout",
          "text": [
            "False\n"
          ]
        }
      ]
    },
    {
      "cell_type": "code",
      "source": [
        "def brackets_balanced(s):\n",
        "    count_open = 0\n",
        "    count_close = 0\n",
        "\n",
        "    for char in s:\n",
        "        if char == '[':\n",
        "            count_open += 1\n",
        "        elif char == ']':\n",
        "            count_close += 1\n",
        "\n",
        "    return count_open == count_close\n"
      ],
      "metadata": {
        "id": "cbyj8r17IICn"
      },
      "execution_count": 161,
      "outputs": []
    },
    {
      "cell_type": "code",
      "source": [
        "def regex_ranges(st):  # [a-c] => [a|b|c] ab        #ab[a-z]\n",
        "    l = [char for char in st]\n",
        "    range_dict = {}\n",
        "    flag = 0\n",
        "    postfix = ''\n",
        "    range = ''\n",
        "\n",
        "    # check [ = ]\n",
        "    if not brackets_balanced(st): return False\n",
        "\n",
        "    for ind, c in enumerate(l):\n",
        "        if c == '[':\n",
        "            range = ''\n",
        "            flag = 1\n",
        "            postfix += c\n",
        "            continue\n",
        "\n",
        "        if c == ']':\n",
        "            flag = 0\n",
        "            res = check_ranges(range)\n",
        "            if not res: return False\n",
        "            postfix += res\n",
        "            postfix += c\n",
        "            continue\n",
        "\n",
        "        if flag == 1:\n",
        "            range += c\n",
        "            continue\n",
        "\n",
        "        postfix += c\n",
        "\n",
        "    return postfix\n",
        "\n",
        "\n",
        "# print(regex_ranges('[1-9]|[1-9][0-9]|1[0-9][0-9]|2[0-4][0-9]|25[0-5]'))\n",
        "print(regex_ranges('ab[a-zA-z0-9]'))"
      ],
      "metadata": {
        "id": "x2b65ToibDN2",
        "colab": {
          "base_uri": "https://localhost:8080/"
        },
        "outputId": "40d94279-b999-4813-9a59-cdbb6ee26ac2"
      },
      "execution_count": 162,
      "outputs": [
        {
          "output_type": "stream",
          "name": "stdout",
          "text": [
            "False\n"
          ]
        }
      ]
    },
    {
      "cell_type": "code",
      "source": [
        "def regex_anding(st): #A?∘B\n",
        "    and_op = '∘'\n",
        "    l = [char for char in st]\n",
        "    flag = 0\n",
        "    #handle anding\n",
        "    for ind, ch in enumerate(l):\n",
        "\n",
        "        one_operand = ['+', '*', '?']\n",
        "        two_operands = ['|', '∘']\n",
        "        brackets = ['[', ']', '(', ')']\n",
        "        # to skip adding & inside a range (skip paranthesis)\n",
        "\n",
        "        if ch == ']':\n",
        "            flag = 0\n",
        "\n",
        "        if flag ==1:\n",
        "            continue\n",
        "\n",
        "        if ind != len(l)-1 and (ch == '['):\n",
        "            flag = 1\n",
        "\n",
        "\n",
        "        # cases: ab => a∘b          a( => a∘(           a[ => a∘[           a% => a∘%\n",
        "        if ind != len(l)-1 and ch.isalnum() and (l[ind+1] not in ['?', '+', '*', '∘', '|', ')', ']']):\n",
        "            l.insert(ind+1, and_op)\n",
        "\n",
        "        # cases: a+b => a+∘b\n",
        "        elif ind != len(l)-1 and not ch.isalnum() and l[ind+1].isalnum() and ch not in ['∘', '[', '-', '(', '|']:\n",
        "            l.insert(ind+1, and_op)\n",
        "\n",
        "        #cases: handle *? => *?\n",
        "        elif ind != len(l)-1 and not ch.isalnum() and not l[ind+1].isalnum() and ch in one_operand and l[ind+1] in one_operand:\n",
        "            continue\n",
        "\n",
        "        elif ind != len(l)-1 and not ch.isalnum() and not l[ind+1].isalnum() and ch in one_operand and l[ind+1] in [')']:\n",
        "            continue\n",
        "\n",
        "        # ?( => ?∘(\n",
        "        elif ind != len(l)-1 and not ch.isalnum() and not l[ind+1].isalnum() and ch not in ['∘', '[', '-', '(', '|', ')', ']'] and l[ind+1] != '|' and l[ind+1] != ')':\n",
        "            l.insert(ind+1, and_op)\n",
        "\n",
        "        # cases: )(     ][      ](      )[  => )∘(      ]∘[     ]∘(        )∘[\n",
        "        elif ind != len(l)-1 and (ch == ')' or ch == ']') and (l[ind+1] in ['[', '('] or ( l[ind+1] not in one_operand and l[ind+1] not in two_operands and l[ind+1] not in [')', ']'])):\n",
        "            l.insert(ind+1, and_op)\n",
        "\n",
        "\n",
        "    return ''.join(l)\n",
        "\n",
        "\n",
        "# print(regex_anding('[1-9]|[1-9][0-9]|1[0-9][0-9]|2[0-4][0-9]|25[0-5]'))\n",
        "# print(regex_anding('((ABC)|(abc))'))"
      ],
      "metadata": {
        "id": "DBKEuTry-lmr"
      },
      "execution_count": 163,
      "outputs": []
    },
    {
      "cell_type": "markdown",
      "source": [
        "### Shaunting Yard"
      ],
      "metadata": {
        "id": "dqHsmjgRN4cA"
      }
    },
    {
      "cell_type": "code",
      "execution_count": 164,
      "metadata": {
        "id": "vWctuUhxDdse"
      },
      "outputs": [],
      "source": [
        "from collections import deque\n",
        "\n",
        "def shaunting_yard(st):\n",
        "    prec = {'*' : 5, '+' :4, '?': 3, '∘': 2, '|' : 1}\n",
        "    st1 = regex_ranges(st)\n",
        "    if not st1:\n",
        "        return \"Invalid Regex\"\n",
        "\n",
        "    st2 = regex_anding(st1)\n",
        "\n",
        "    stack = []\n",
        "    queue = deque()\n",
        "    flag = 0\n",
        "    regex = ''\n",
        "    for ch in st2: # number\n",
        "\n",
        "        if ch == '[':\n",
        "            flag = 1\n",
        "            regex += ch\n",
        "            continue\n",
        "\n",
        "        if ch == ']':\n",
        "            regex +=ch\n",
        "            queue.append(regex)\n",
        "            flag = 0\n",
        "            regex = ''\n",
        "            continue\n",
        "\n",
        "        if flag == 1:\n",
        "            regex +=ch\n",
        "            continue\n",
        "\n",
        "\n",
        "        if ch not in ['?', '+', '*', '∘', '|', '(', ')',]:\n",
        "            queue.append(ch)\n",
        "\n",
        "        elif ch == '(':\n",
        "            stack.append(ch)\n",
        "\n",
        "            #right paranthesis\n",
        "        elif ch == \")\": # handle ab)\n",
        "            while stack and stack[-1] != \"(\":\n",
        "                queue.append(stack.pop())\n",
        "            if not stack: # error checking no ( in stack\n",
        "                return \"Invalid Regex\"\n",
        "            stack.pop()\n",
        "\n",
        "\n",
        "        elif ch in prec.keys():\n",
        "            while stack and prec[ch] <= prec.get(stack[-1], 0):\n",
        "                queue.append(stack.pop())\n",
        "            stack.append(ch)\n",
        "\n",
        "    while stack: #\n",
        "        if stack[-1] == '(' or stack[-1] == '[': # error checking ( remaining in stack\n",
        "            return \"Invalid Regex\"\n",
        "        queue.append(stack.pop())\n",
        "\n",
        "\n",
        "    output_shaunting_yard = ''.join(queue)\n",
        "\n",
        "\n",
        "    with open('inner_data.txt', 'w') as file:\n",
        "        # Write text to the file\n",
        "        file.write(\"original regex = \" + st + '\\n\\n')\n",
        "        file.write(\"regex after handling concat = \" + st2 + '\\n\\n')\n",
        "        file.write(\"regex after shaunting yard  = \" + output_shaunting_yard + '\\n\\n')\n",
        "\n",
        "\n",
        "    return output_shaunting_yard\n",
        "\n",
        "# regex = 'ab[a-zA-Z0-9]'\n",
        "# output_queue = shaunting_yard(regex)\n",
        "# print(output_queue)\n"
      ]
    },
    {
      "cell_type": "markdown",
      "source": [
        "### Postfix to NFA"
      ],
      "metadata": {
        "id": "X53IsblJNfgm"
      }
    },
    {
      "cell_type": "markdown",
      "source": [
        "classes: Edges, State, NFA"
      ],
      "metadata": {
        "id": "rqPmS-E3OB0q"
      }
    },
    {
      "cell_type": "code",
      "source": [
        "class Edge:\n",
        "    def __init__(self, _label, _source, _destination):\n",
        "        self.label = _label\n",
        "        self.source = _source\n",
        "        self.destination = _destination\n",
        "\n",
        "    def get_label(self):\n",
        "        return self.label\n",
        "\n",
        "    def get_source(self):\n",
        "        return self.source\n",
        "\n",
        "    def get_destination(self):\n",
        "        return self.destination\n",
        "\n",
        "    def __str__(self):\n",
        "        return f'Edge with label {self.label} from {self.source} to {self.destination}'\n",
        "\n",
        "\n",
        "\n",
        "class State:\n",
        "    def __init__(self, _label, _state_type):\n",
        "        self.label = _label\n",
        "        self.state_type = _state_type\n",
        "        self.outgoing_edges = []\n",
        "        self.isTerminal = False\n",
        "\n",
        "    def add_outgoing_edge(self, edge):\n",
        "        self.outgoing_edges.append(edge)\n",
        "\n",
        "\n",
        "    def get_outgoing_edges(self):\n",
        "        return self.outgoing_edges\n",
        "\n",
        "\n",
        "\n",
        "\n",
        "class NFA:\n",
        "    def __init__(self, _NFA_type, _starting_state, _inner_states, _accepting_state):\n",
        "        self.NFA_type = _NFA_type\n",
        "        self.starting_state = _starting_state\n",
        "        self.inner_states = [item for sublist in _inner_states if isinstance(sublist, list) for item in sublist] + [item for item in _inner_states if not isinstance(item, list)]\n",
        "        self.accepting_state = _accepting_state\n",
        "\n",
        "    def __str__(self):\n",
        "        return f'The NFA type is {self.NFA_type} and has starting state = {self.starting_state.label}, {len(self.inner_states)} inner states, and accepting state = {self.accepting_state.label}'\n",
        "\n"
      ],
      "metadata": {
        "id": "x319nXYz_5Wu"
      },
      "execution_count": 165,
      "outputs": []
    },
    {
      "cell_type": "markdown",
      "source": [
        "    +, *, ? => pop once\n",
        "    ∘, | => pop twice\n",
        "\n",
        "\n",
        "\n",
        "\n"
      ],
      "metadata": {
        "id": "gVCd_H59j23n"
      }
    },
    {
      "cell_type": "code",
      "source": [
        "epsilon = 'ε'\n",
        "\n",
        "def construct_variable_NFA(char):\n",
        "    global state_count\n",
        "\n",
        "    #states\n",
        "    var_state = State(f'S{state_count}', 'variable')\n",
        "    state_count+=1\n",
        "    state = State(f'S{state_count}', epsilon)\n",
        "    state_count+=1\n",
        "\n",
        "    #edges\n",
        "    edge = Edge(char, var_state, state)\n",
        "\n",
        "    #connecting edges to states\n",
        "    var_state.add_outgoing_edge(edge)\n",
        "\n",
        "    #construct NFA\n",
        "    nfa = NFA('Variable',var_state, [] , state )\n",
        "\n",
        "    return nfa\n",
        "\n",
        "\n",
        "def construct_concat_nfa(var1, var2):\n",
        "\n",
        "    #edges\n",
        "    edge = Edge(epsilon ,var1.accepting_state, var2.starting_state)\n",
        "\n",
        "    #connecting edges to states\n",
        "    var1.accepting_state.add_outgoing_edge(edge)\n",
        "\n",
        "    #construct NFA\n",
        "    nfa = NFA('Concatination', var1.starting_state, [var1.inner_states , var1.accepting_state , var2.starting_state , var2.inner_states] ,var2.accepting_state)\n",
        "\n",
        "    return nfa\n",
        "\n",
        "\n",
        "def construct_or_nfa(var1, var2):\n",
        "\n",
        "    global state_count\n",
        "\n",
        "    # if var1.NFA_type == 'Oring':\n",
        "    #     edge1 = Edge(epsilon, var1.starting_state, var2.starting_state)\n",
        "    #     edge2 = Edge(epsilon, var2.accepting_state, var1.accepting_state)\n",
        "    #     var1.starting_state.add_outgoing_edge(edge1)\n",
        "    #     var2.accepting_state.add_outgoing_edge(edge2)\n",
        "    #     nfa = NFA('Oring', var1.starting_state, [var1.inner_states, var2.starting_state, var2.accepting_state], var1.accepting_state)\n",
        "    #     return nfa\n",
        "\n",
        "    #states\n",
        "    state = State(f'S{state_count}', epsilon)\n",
        "    state_count+=1\n",
        "    state1 = State(f'S{state_count}', epsilon)\n",
        "    state_count+=1\n",
        "\n",
        "\n",
        "    #edges\n",
        "    edge1 = Edge(epsilon, state, var1.starting_state)\n",
        "    edge2 = Edge(epsilon, state, var2.starting_state)\n",
        "    edge3 = Edge(epsilon, var1.accepting_state, state1)\n",
        "    edge4 = Edge(epsilon, var2.accepting_state, state1)\n",
        "\n",
        "    ##connecting edges to states\n",
        "    state.add_outgoing_edge(edge1)\n",
        "    state.add_outgoing_edge(edge2)\n",
        "    var1.accepting_state.add_outgoing_edge(edge3)\n",
        "    var2.accepting_state.add_outgoing_edge(edge4)\n",
        "\n",
        "    #construct NFA\n",
        "    nfa = NFA('Oring', state, [var1.starting_state , var1.inner_states , var1.accepting_state , var2.starting_state , var2.inner_states , var2.accepting_state] ,state1)\n",
        "\n",
        "    return nfa\n",
        "\n",
        "\n",
        "def construct_zero_or_more_nfa(var):\n",
        "\n",
        "    global state_count\n",
        "\n",
        "    #states\n",
        "    state = State(f'S{state_count}', epsilon)\n",
        "    state_count+=1\n",
        "    state1 = State(f'S{state_count}', epsilon)\n",
        "    state_count+=1\n",
        "\n",
        "    #edges\n",
        "    edge1 = Edge(epsilon, state, var.starting_state)\n",
        "    edge2 = Edge(epsilon, var.accepting_state, var.starting_state)\n",
        "    edge3 = Edge(epsilon, var.accepting_state, state1)\n",
        "    edge4 = Edge(epsilon, state, state1)\n",
        "\n",
        "    #connecting edges to states\n",
        "    state.add_outgoing_edge(edge1)\n",
        "    var.accepting_state.add_outgoing_edge(edge2)\n",
        "    var.accepting_state.add_outgoing_edge(edge3)\n",
        "    state.add_outgoing_edge(edge4)\n",
        "\n",
        "    #construct NFA\n",
        "    nfa = NFA('Zero Or More', state, [var.starting_state , var.inner_states , var.accepting_state] ,state1)\n",
        "\n",
        "    return nfa\n",
        "\n",
        "\n",
        "def construct_one_or_more_nfa(var):\n",
        "\n",
        "    global state_count\n",
        "\n",
        "    #states\n",
        "    start_state = State(f'S{state_count}', epsilon)\n",
        "    state_count+=1\n",
        "    end_state = State(f'S{state_count}', epsilon)\n",
        "    state_count+=1\n",
        "\n",
        "    #edges\n",
        "    edge1 = Edge(epsilon, start_state, var.starting_state)\n",
        "    edge2 = Edge(epsilon, var.accepting_state, var.starting_state)\n",
        "    edge3 = Edge(epsilon, var.accepting_state, end_state)\n",
        "\n",
        "    #connecting edges to states\n",
        "    start_state.add_outgoing_edge(edge1)\n",
        "    var.accepting_state.add_outgoing_edge(edge2)\n",
        "    var.accepting_state.add_outgoing_edge(edge3)\n",
        "\n",
        "    #construct NFA\n",
        "    nfa = NFA('One Or More', start_state, [var.starting_state , var.inner_states , var.accepting_state] , end_state)\n",
        "\n",
        "    return nfa\n",
        "\n",
        "\n",
        "def construct_zero_or_one_nfa(var):\n",
        "\n",
        "    global state_count\n",
        "\n",
        "    #states\n",
        "    state = State(f'S{state_count}', epsilon)\n",
        "    state_count+=1\n",
        "    state1 = State(f'S{state_count}', epsilon)\n",
        "    state_count+=1\n",
        "\n",
        "    #edges\n",
        "    edge1 = Edge(epsilon, state, var.starting_state)\n",
        "    edge3 = Edge(epsilon, var.accepting_state, state1)\n",
        "    edge4 = Edge(epsilon, state, state1)\n",
        "\n",
        "    #connecting edges to states\n",
        "    state.add_outgoing_edge(edge1)\n",
        "    var.accepting_state.add_outgoing_edge(edge3)\n",
        "    state.add_outgoing_edge(edge4)\n",
        "\n",
        "\n",
        "    nfa = NFA('Zero Or One (Optional)', state, [var.starting_state , var.inner_states , var.accepting_state] ,state1)\n",
        "\n",
        "    return nfa\n"
      ],
      "metadata": {
        "id": "BHCiKD2KFBPu"
      },
      "execution_count": 166,
      "outputs": []
    },
    {
      "cell_type": "code",
      "source": [
        "def postfix_to_NFA(st): # a[a-z]o\n",
        "    stack = []\n",
        "    global state_count\n",
        "    state_count = 0\n",
        "    flag = 0\n",
        "    range = ''\n",
        "    try:\n",
        "        for c in st:\n",
        "\n",
        "            if c == '[':\n",
        "                flag = 1\n",
        "                range += c\n",
        "                continue\n",
        "\n",
        "            if c == ']':\n",
        "                range += c\n",
        "                nfa = construct_variable_NFA(range)\n",
        "                stack.append(nfa)\n",
        "                flag = 0\n",
        "                range = ''\n",
        "                continue\n",
        "\n",
        "            if flag == 1:\n",
        "                range +=c\n",
        "                continue\n",
        "\n",
        "\n",
        "            if c.isalnum() or c not in ['?', '+', '*', '∘', '|']:\n",
        "\n",
        "                nfa = construct_variable_NFA(c)\n",
        "\n",
        "                #add nfa to stack\n",
        "                stack.append(nfa)\n",
        "\n",
        "            elif c == '∘':\n",
        "\n",
        "                var1 = stack.pop()\n",
        "                var2 = stack.pop()\n",
        "\n",
        "                nfa = construct_concat_nfa(var2, var1)\n",
        "\n",
        "\n",
        "                stack.append(nfa)\n",
        "\n",
        "            elif c == '|':\n",
        "\n",
        "                var1 = stack.pop()\n",
        "                var2 = stack.pop()\n",
        "\n",
        "                nfa = construct_or_nfa(var2, var1)\n",
        "\n",
        "                stack.append(nfa)\n",
        "\n",
        "            elif c == '*':\n",
        "\n",
        "                var = stack.pop()\n",
        "\n",
        "                nfa = construct_zero_or_more_nfa(var)\n",
        "\n",
        "                stack.append(nfa)\n",
        "\n",
        "            elif c == '+':\n",
        "\n",
        "                var = stack.pop()\n",
        "\n",
        "                nfa = construct_one_or_more_nfa(var)\n",
        "\n",
        "                stack.append(nfa)\n",
        "\n",
        "            elif c == '?':\n",
        "\n",
        "                var = stack.pop()\n",
        "\n",
        "                nfa = construct_zero_or_one_nfa(var)\n",
        "\n",
        "                stack.append(nfa)\n",
        "\n",
        "        if len(stack) != 1:\n",
        "            return \"Invalid Regex\"\n",
        "\n",
        "        nfa = stack.pop()\n",
        "        nfa.accepting_state.isTerminal = True       #check ba3deen for terminal states\n",
        "\n",
        "    except Exception as e:\n",
        "        return \"Invalid Regex\"\n",
        "\n",
        "    return nfa\n",
        "\n",
        "out = shaunting_yard('ab[a-zA-z0-9]')\n",
        "\n",
        "nfa = postfix_to_NFA(out)\n",
        "print(str(nfa))"
      ],
      "metadata": {
        "id": "aNNDJ6bj0NSP",
        "colab": {
          "base_uri": "https://localhost:8080/"
        },
        "outputId": "378e30f8-81f4-4fe5-f765-1558f56f0c91"
      },
      "execution_count": 167,
      "outputs": [
        {
          "output_type": "stream",
          "name": "stdout",
          "text": [
            "Invalid Regex\n"
          ]
        }
      ]
    },
    {
      "cell_type": "markdown",
      "source": [
        "### NFA Graph"
      ],
      "metadata": {
        "id": "F7pfnAHHQFa_"
      }
    },
    {
      "cell_type": "code",
      "source": [
        "import graphviz\n",
        "from graphviz import Digraph\n",
        "from IPython.display import display, Image\n",
        "\n",
        "def visualize_NFA(nfa):\n",
        "\n",
        "    start_state = nfa.starting_state\n",
        "    inner_states = nfa.inner_states\n",
        "    accept_state = nfa.accepting_state\n",
        "\n",
        "    graph = Digraph(graph_attr={'rankdir': 'LR'})\n",
        "    # handle start edge -> S0 ✔\n",
        "    graph.node(\"\", _attributes = {'shape':'none'})\n",
        "    graph.edge(\"\", start_state.label, label = \"start\")\n",
        "\n",
        "    all_nodes = [start_state] + inner_states + [accept_state]\n",
        "\n",
        "    all_edges = []\n",
        "\n",
        "    for node in all_nodes:\n",
        "\n",
        "        if not node.get_outgoing_edges(): ## accepting\n",
        "            graph.node(node.label, _attributes = {'peripheries' : '2'})\n",
        "        else:\n",
        "            graph.node(node.label)\n",
        "\n",
        "        all_edges.extend(node.get_outgoing_edges())\n",
        "\n",
        "\n",
        "\n",
        "    for edge in all_edges:\n",
        "        graph.edge(edge.source.label, edge.destination.label, label = edge.label)\n",
        "        input_lists.add(edge.label)\n",
        "\n",
        "\n",
        "\n",
        "    return graph\n",
        "\n",
        "\n",
        "\n",
        "# nfa = postfix_to_NFA('A*B∘')\n",
        "# graph = visualize_NFA(nfa)\n",
        "# print(graph.source)\n",
        "# graph.render('graph', format = 'png', cleanup = True, view = True)\n",
        "# display(Image('graph.png'))\n"
      ],
      "metadata": {
        "id": "oWd7SBePn_Rv"
      },
      "execution_count": 168,
      "outputs": []
    },
    {
      "cell_type": "code",
      "source": [
        "import json\n",
        "def get_output_json(nfa):\n",
        "    epsilon = 'ε'\n",
        "    start_state = nfa.starting_state\n",
        "    inner_states = nfa.inner_states\n",
        "    accept_state = nfa.accepting_state\n",
        "    all_nodes = [start_state] + inner_states + [accept_state]\n",
        "    json_dictionary = dict()\n",
        "    json_dictionary['startingState'] = start_state.label\n",
        "\n",
        "    for node in all_nodes:\n",
        "        node_dictionary= dict()\n",
        "        node_dictionary[\"isTerminatingState\"] = node.isTerminal\n",
        "        for e in node.outgoing_edges: # handle epsilon and multiple states (more than one state are in a list)\n",
        "            #handle multiple states and edges ex: epslin: s1,s2\n",
        "            if e.label not in node_dictionary:\n",
        "                node_dictionary[e.label] = []  # Create an empty list if key doesn't exist\n",
        "            node_dictionary[e.label].append(e.destination.label)\n",
        "\n",
        "\n",
        "        # Check if the list has length 1\n",
        "        # for key, value in node_dictionary.items():\n",
        "        #     if key != 'isTerminatingState' and len(value) == 1:\n",
        "        #         node_dictionary[key] = value[0]\n",
        "\n",
        "        json_dictionary[node.label] = node_dictionary\n",
        "\n",
        "    with open('data.json', 'w') as json_file:\n",
        "        json.dump(json_dictionary, json_file, indent = 6, ensure_ascii=False)\n",
        "\n",
        "    return json_dictionary"
      ],
      "metadata": {
        "id": "x2HNlkRlk86K"
      },
      "execution_count": 169,
      "outputs": []
    },
    {
      "cell_type": "code",
      "source": [
        "def regex_to_NFA_graph(st):\n",
        "\n",
        "    output_queue = shaunting_yard(st)\n",
        "    if output_queue == 'Invalid Regex':\n",
        "        return output_queue\n",
        "\n",
        "    nfa = postfix_to_NFA(output_queue)\n",
        "    if nfa == 'Invalid Regex':\n",
        "        return nfa\n",
        "    print(str(nfa))\n",
        "    graph = visualize_NFA(nfa)\n",
        "    json_dict = get_output_json(nfa)\n",
        "    graph.render('NFA_graph', format = 'png', cleanup = True, view = True)\n",
        "    display(Image('NFA_graph.png'))\n",
        "    print()\n",
        "    return nfa\n",
        "\n",
        "nfa = regex_to_NFA_graph('ab[a-zA-z0-9]')\n"
      ],
      "metadata": {
        "id": "HWCGWfcNjsRF"
      },
      "execution_count": 170,
      "outputs": []
    },
    {
      "cell_type": "markdown",
      "source": [
        "## Part 2: NFA To Minimized DFA\n"
      ],
      "metadata": {
        "id": "8d17OcocgA5w"
      }
    },
    {
      "cell_type": "markdown",
      "source": [
        "### Subset Construction Algorithm"
      ],
      "metadata": {
        "id": "cJj9-I_zG0vy"
      }
    },
    {
      "cell_type": "code",
      "source": [
        "class DFA:\n",
        "    def __init__(self):\n",
        "        self.starting_state = []\n",
        "        self.inner_states = []\n",
        "        self.accepting_state = []\n",
        "\n",
        "    def __str__(self):\n",
        "        return f'The DFA has {len(self.starting_state)} starting states, {len(self.inner_states)} inner states, and {len(self.accepting_state)} accepting state'\n",
        "\n",
        "\n",
        "    def get_state(self, label):\n",
        "        all_states = list(set((self.starting_state + self.inner_states + self.accepting_state)))\n",
        "        for s in all_states:\n",
        "            if s.label == label:\n",
        "                return s\n",
        "\n",
        "    def delete_state(self, state):\n",
        "        if state in self.starting_state:\n",
        "            self.starting_state.remove(state)\n",
        "\n",
        "        if state in self.inner_states:\n",
        "            self.inner_states.remove(state)\n",
        "\n",
        "        if state in self.accepting_state:\n",
        "            self.accepting_state.remove(state)\n",
        "\n",
        "        return\n"
      ],
      "metadata": {
        "id": "S2k2XADmZh--"
      },
      "execution_count": 171,
      "outputs": []
    },
    {
      "cell_type": "code",
      "source": [
        "def epsilon_closure(state_list, json_dict):\n",
        "    for state in state_list:\n",
        "        if epsilon in json_dict[state].keys():\n",
        "            state_list  += [elem for elem in json_dict[state][epsilon] if elem not in state_list]\n",
        "    return state_list\n",
        "\n",
        "# print(epsilon_closure(['S6'], data))"
      ],
      "metadata": {
        "id": "W0EBiM7aOE1s"
      },
      "execution_count": 172,
      "outputs": []
    },
    {
      "cell_type": "code",
      "source": [
        "def get_states_dfa(inp, states_list, json_dict, states_dfa):\n",
        "    temp_state = []\n",
        "    if inp != epsilon:\n",
        "        for state in states_list: # for state in ABCDHI\n",
        "            if inp in json_dict[state].keys(): # D[0]\n",
        "                st = json_dict[state][inp] # [F]\n",
        "\n",
        "                l = epsilon_closure(st, json_dict) # [F, G]\n",
        "                temp_state += [elem for elem in l if elem not in temp_state] # [F, G]\n",
        "\n",
        "    if temp_state:\n",
        "        return sorted(temp_state)\n",
        "    return"
      ],
      "metadata": {
        "id": "IZHFMEhYXFzK"
      },
      "execution_count": 173,
      "outputs": []
    },
    {
      "cell_type": "code",
      "source": [
        "def NFA_to_DFA(nfa, data):\n",
        "    with open(data, 'r') as file:\n",
        "        # Load the JSON data\n",
        "        json_dict = json.load(file)\n",
        "\n",
        "    start_state_nfa = nfa.starting_state\n",
        "    start_state_dfa = []\n",
        "    start_state_dfa.append(start_state_nfa.label) #S6\n",
        "\n",
        "    for item in start_state_dfa:\n",
        "        if epsilon in json_dict[item].keys():\n",
        "            start_state_dfa += [elem for elem in json_dict[item][epsilon] if elem not in start_state_dfa]\n",
        "\n",
        "    # now we have epsilon closure of start state\n",
        "\n",
        "    states_dfa = []\n",
        "    states_dfa.append(sorted(start_state_dfa))\n",
        "    dfa_dict = dict()\n",
        "\n",
        "\n",
        "\n",
        "    # loop over all possible inputs\n",
        "    for state in states_dfa:\n",
        "        for inp in input_lists:\n",
        "            res = get_states_dfa(inp, state, json_dict, states_dfa)\n",
        "            if res:\n",
        "                dfa_dict[(tuple(state), inp)] = res\n",
        "                if res not in states_dfa:\n",
        "                    states_dfa.append(res)\n",
        "\n",
        "\n",
        "    return states_dfa, dfa_dict"
      ],
      "metadata": {
        "id": "E7n02o78gEmX"
      },
      "execution_count": 174,
      "outputs": []
    },
    {
      "cell_type": "markdown",
      "source": [
        "### visualize DFA"
      ],
      "metadata": {
        "id": "EfN_L4OYGrg8"
      }
    },
    {
      "cell_type": "code",
      "source": [
        "def construct_DFA(states_dfa,dfa_dict, nfa):\n",
        "    nfa_start = nfa.starting_state.label\n",
        "    nfa_accept = nfa.accepting_state.label\n",
        "    dfa = DFA()\n",
        "\n",
        "\n",
        "    all_states = []\n",
        "    for s in states_dfa:\n",
        "        state = State(str(s), \"\")\n",
        "        all_states.append(state)\n",
        "\n",
        "        if nfa_start in s:\n",
        "            dfa.starting_state.append(state)\n",
        "\n",
        "        if nfa_accept in s:\n",
        "            state.isTerminal= True\n",
        "            dfa.accepting_state.append(state)\n",
        "\n",
        "        else:\n",
        "            dfa.inner_states.append(state)\n",
        "\n",
        "\n",
        "    keys = list(dfa_dict.keys())\n",
        "\n",
        "    for s in all_states:\n",
        "        result = [t for t in keys if s.label == str(list(t[0]))]\n",
        "        if result:\n",
        "            for r in result:\n",
        "                _, inp = r\n",
        "\n",
        "                e = Edge(inp, s.label, str(dfa_dict[r]))\n",
        "                s.add_outgoing_edge(e)\n",
        "\n",
        "    return dfa\n",
        "\n",
        "# dfa = construct_DFA(states_dfa, dfa_dict, nfa)\n",
        "# print(str(dfa))\n"
      ],
      "metadata": {
        "id": "jfL4zbp9ndMS"
      },
      "execution_count": 175,
      "outputs": []
    },
    {
      "cell_type": "code",
      "source": [
        "def visualize_DFA(dfa):\n",
        "    start_state = dfa.starting_state\n",
        "\n",
        "\n",
        "    graph_DFA = Digraph(graph_attr={'rankdir': 'LR'})\n",
        "    graph_DFA.node(\"\", _attributes = {'shape':'none'})\n",
        "    graph_DFA.edge(\"\", start_state[0].label, label = \"start\")\n",
        "\n",
        "\n",
        "    all_nodes = dfa.starting_state + dfa.inner_states + dfa.accepting_state\n",
        "    all_edges = []\n",
        "\n",
        "    for ind, node in enumerate(all_nodes):\n",
        "\n",
        "        if node.isTerminal: ## accepting\n",
        "            graph_DFA.node(node.label, _attributes = {'peripheries' : '2'})\n",
        "\n",
        "        else:\n",
        "            graph_DFA.node(node.label)\n",
        "\n",
        "        all_edges.extend(node.get_outgoing_edges())\n",
        "\n",
        "\n",
        "    edge_tuples = []\n",
        "    for edge in all_edges:\n",
        "        if (edge.source, edge.destination) in edge_tuples:\n",
        "            continue\n",
        "        graph_DFA.edge(edge.source, edge.destination, label = edge.label)\n",
        "        edge_tuples.append((edge.source, edge.destination))\n",
        "\n",
        "    return graph_DFA\n",
        "\n",
        "\n",
        "# graph_DFA= visualize_DFA(dfa)\n",
        "\n",
        "# graph_DFA.render('DFA_graph', format = 'png', cleanup = True, view = True)\n",
        "# display(Image('DFA_graph.png'))\n"
      ],
      "metadata": {
        "id": "dk7A68OFckFC"
      },
      "execution_count": 176,
      "outputs": []
    },
    {
      "cell_type": "code",
      "source": [
        "def getDFA(nfa, data):\n",
        "\n",
        "    states_dfa, dfa_dict = NFA_to_DFA(nfa, data)\n",
        "    dfa = construct_DFA(states_dfa, dfa_dict, nfa)\n",
        "    print(str(dfa))\n",
        "    graph_DFA= visualize_DFA(dfa)\n",
        "    graph_DFA.render('DFA_graph', format = 'png', cleanup = True, view = True)\n",
        "    display(Image('DFA_graph.png'))\n",
        "    return dfa"
      ],
      "metadata": {
        "id": "k6Ed5TvjG8JZ"
      },
      "execution_count": 177,
      "outputs": []
    },
    {
      "cell_type": "markdown",
      "source": [
        "### clean DFA (for minimized DFA)"
      ],
      "metadata": {
        "id": "qRJVuD5bz7P4"
      }
    },
    {
      "cell_type": "code",
      "source": [
        "def get_clean_DFA(dfa):\n",
        "    all_states = list(set((dfa.starting_state + dfa.accepting_state + dfa.inner_states)))\n",
        "\n",
        "    states_dict = dict()\n",
        "    for ind, s in enumerate(all_states):\n",
        "        states_dict[s.label] = f'S{ind}'\n",
        "        s.label = f'S{ind}'\n",
        "\n",
        "    for ind, s in enumerate(all_states):\n",
        "        for e in s.get_outgoing_edges():\n",
        "            e.source = states_dict[e.source]\n",
        "            e.destination = states_dict[e.destination]\n",
        "\n",
        "    clean_dfa_graph = visualize_DFA(dfa)\n",
        "    clean_dfa_graph.render('clean_DFA_graph', format = 'png', cleanup = True, view = True)\n",
        "    print()\n",
        "    print(str(dfa))\n",
        "    display(Image('clean_DFA_graph.png'))\n",
        "\n",
        "    return\n"
      ],
      "metadata": {
        "id": "liBMcaip0Adw"
      },
      "execution_count": 178,
      "outputs": []
    },
    {
      "cell_type": "code",
      "source": [
        "def regex_to_DFA(regex):\n",
        "\n",
        "    nfa = regex_to_NFA_graph(regex)\n",
        "    if nfa == 'Invalid Regex':\n",
        "        return nfa\n",
        "\n",
        "    dfa = getDFA(nfa, 'data.json')\n",
        "    get_clean_DFA(dfa)\n",
        "\n",
        "    return dfa"
      ],
      "metadata": {
        "id": "pdvcWXnTJuHD"
      },
      "execution_count": 179,
      "outputs": []
    },
    {
      "cell_type": "markdown",
      "source": [
        "### Clean DFA to Minimized DFA"
      ],
      "metadata": {
        "id": "1K8hUNY3_eZ_"
      }
    },
    {
      "cell_type": "code",
      "source": [
        "def create_pairs(lst): # created them sorted\n",
        "    pairs = []\n",
        "    for i in range(len(lst)):\n",
        "        for j in range(i + 1, len(lst)):\n",
        "            pairs.append((lst[i], lst[j]))\n",
        "\n",
        "    return pairs"
      ],
      "metadata": {
        "id": "5TsAv9JPUWEP"
      },
      "execution_count": 180,
      "outputs": []
    },
    {
      "cell_type": "code",
      "source": [
        "def get_label(pairs_dict):\n",
        "    pairs_label = dict()\n",
        "    for key, value in pairs_dict.items():\n",
        "        s1, s2 = key\n",
        "        print(s1.label + ' ' + s2.label + ' '+  str(value))\n",
        "        print()\n"
      ],
      "metadata": {
        "id": "VWvBQrowhau5"
      },
      "execution_count": 181,
      "outputs": []
    },
    {
      "cell_type": "code",
      "source": [
        "def min_DFA(dfa):\n",
        "    all_states = list(set((dfa.starting_state + dfa.accepting_state + dfa.inner_states)))\n",
        "\n",
        "    # print(all_states)\n",
        "    pairs = create_pairs(all_states)\n",
        "    # print(pairs)\n",
        "\n",
        "    pairs_dict = dict()\n",
        "    flag = 1\n",
        "\n",
        "    # if not pairs:\n",
        "    #     return None\n",
        "\n",
        "    for pair in pairs:\n",
        "        s1, s2 = pair\n",
        "        if (s1.isTerminal and not s2.isTerminal) or (not s1.isTerminal and s2.isTerminal):\n",
        "            pairs_dict[pair] = False\n",
        "        else:\n",
        "            pairs_dict[pair] = True\n",
        "\n",
        "\n",
        "    while (flag ==1):\n",
        "        flag = 0\n",
        "        for key, value in pairs_dict.items():\n",
        "            s1, s2 = key # state objects\n",
        "            if value:\n",
        "                for i in input_lists: ## what if 2 states have no edges? ###CHECK###\n",
        "                    if i == epsilon:\n",
        "                        continue\n",
        "\n",
        "                    s1_edge = [edge for edge in s1.get_outgoing_edges() if edge.label == i]\n",
        "                    s2_edge = [edge for edge in s2.get_outgoing_edges() if edge.label == i]\n",
        "\n",
        "                    if s1_edge:\n",
        "                        s1_edge_dest = s1_edge[0].destination #strings S2\n",
        "\n",
        "                    if s2_edge:\n",
        "                        s2_edge_dest = s2_edge[0].destination #strings S0\n",
        "\n",
        "\n",
        "                    if (s1_edge and not s2_edge) or (not s1_edge and s2_edge): # if one of them has no edges (terminal)\n",
        "                        pairs_dict[key] = False\n",
        "                        flag = 1\n",
        "                        break\n",
        "\n",
        "                    if not s1_edge and not s2_edge:\n",
        "                        continue\n",
        "\n",
        "\n",
        "                    if s1_edge_dest != s2_edge_dest:\n",
        "                        s1_edge_dest, s2_edge_dest = sorted((s1_edge_dest, s2_edge_dest))\n",
        "\n",
        "                    s1_dest_state = dfa.get_state(s1_edge_dest)\n",
        "                    s2_dest_state = dfa.get_state(s2_edge_dest)\n",
        "\n",
        "                    isa_key = (s1_dest_state, s2_dest_state)\n",
        "\n",
        "\n",
        "                    temp = pairs_dict.get(isa_key, 2)\n",
        "                    ## ya value ya zero law AA, BB, ....\n",
        "                    ## 2, continue\n",
        "                    # value\n",
        "\n",
        "                    if temp == 2:\n",
        "                        continue\n",
        "\n",
        "                    if not pairs_dict[isa_key]:\n",
        "                        pairs_dict[key] = False\n",
        "                        flag = 1\n",
        "                        break\n",
        "\n",
        "            else:\n",
        "                continue\n",
        "\n",
        "    # get_label(pairs_dict)\n",
        "    return pairs_dict\n",
        "\n",
        "\n",
        "# pairs_dict = min_DFA(dfa)\n"
      ],
      "metadata": {
        "id": "ccaDN1cT6GY1"
      },
      "execution_count": 182,
      "outputs": []
    },
    {
      "cell_type": "code",
      "source": [
        "def get_json_from_DFA(dfa):\n",
        "    start_state = dfa.starting_state\n",
        "    all_states = list(set((dfa.starting_state + dfa.accepting_state + dfa.inner_states)))\n",
        "    json_dict = dict()\n",
        "    json_dict[\"startingState\"] = start_state[0].label\n",
        "\n",
        "    for s in all_states:\n",
        "        node_dict=dict()\n",
        "        node_dict[\"isTerminatingState\"] = s.isTerminal\n",
        "        for e in s.get_outgoing_edges():\n",
        "            node_dict[e.label] = e.destination\n",
        "\n",
        "        json_dict[s.label] = node_dict\n",
        "\n",
        "    with open('min_dfa_data.json', 'w') as json_file:\n",
        "        json.dump(json_dict, json_file, indent = 6, ensure_ascii=False)\n",
        "\n",
        "# regex = input()\n",
        "# dfa1 = regex_to_DFA(regex)\n",
        "# get_json_from_DFA(dfa1)\n",
        "\n"
      ],
      "metadata": {
        "id": "tqwKetWBj8Qz"
      },
      "execution_count": 183,
      "outputs": []
    },
    {
      "cell_type": "code",
      "source": [
        "def visualize_min_DFA(dfa):\n",
        "    start_state = dfa.starting_state\n",
        "\n",
        "\n",
        "    min_graph_DFA = Digraph(graph_attr={'rankdir': 'LR'})\n",
        "    min_graph_DFA.node(\"\", _attributes = {'shape':'none'})\n",
        "    min_graph_DFA.edge(\"\", start_state[0].label, label = \"start\")\n",
        "\n",
        "\n",
        "    all_nodes = list(set((dfa.starting_state + dfa.inner_states + dfa.accepting_state)))\n",
        "    all_edges = []\n",
        "\n",
        "    for ind, node in enumerate(all_nodes):\n",
        "\n",
        "        if node.isTerminal: ## accepting\n",
        "            min_graph_DFA.node(node.label, _attributes = {'peripheries' : '2'})\n",
        "\n",
        "        else:\n",
        "            min_graph_DFA.node(node.label)\n",
        "\n",
        "        all_edges.extend(node.get_outgoing_edges())\n",
        "\n",
        "\n",
        "    edge_tuples = []\n",
        "    for edge in all_edges:\n",
        "        if (edge.label, edge.source, edge.destination) in edge_tuples:\n",
        "            continue\n",
        "        min_graph_DFA.edge(edge.source, edge.destination, label = edge.label)\n",
        "        edge_tuples.append((edge.label, edge.source, edge.destination))\n",
        "\n",
        "    print()\n",
        "    print(str(dfa))\n",
        "    min_graph_DFA.render('min_DFA_graph', format = 'png', cleanup = True, view = True)\n",
        "    display(Image('min_DFA_graph.png'))\n",
        "\n",
        "    return"
      ],
      "metadata": {
        "id": "NAzCATzzzdbd"
      },
      "execution_count": 184,
      "outputs": []
    },
    {
      "cell_type": "code",
      "source": [
        "def graph_minimized(dfa, pairs_dict):\n",
        "\n",
        "    # if not pairs_dict:\n",
        "    #     visualize_min_DFA(dfa)\n",
        "    #     return dfa\n",
        "\n",
        "    # all unique states in dfa\n",
        "    all_states = list(set((dfa.starting_state + dfa.accepting_state + dfa.inner_states)))\n",
        "\n",
        "    # get all pairs el shabah ba3d to minimize\n",
        "    pairs_defined = []\n",
        "    for key, value in pairs_dict.items():\n",
        "        if value:\n",
        "            pairs_defined.append(key)\n",
        "\n",
        "    all_edges = []\n",
        "    for s in all_states:\n",
        "        for e in s.get_outgoing_edges():\n",
        "            all_edges.append(e)\n",
        "\n",
        "\n",
        "    nodes_to_remove = []\n",
        "    edges_available = set()\n",
        "    new_edges = []\n",
        "    for p in pairs_defined:\n",
        "        s1, s2 = p\n",
        "        # KEEP S1\n",
        "        # REMOVE S2\n",
        "        for n in all_edges:\n",
        "\n",
        "            # if n.source not in (s1.label, s2.label) or n.destination not in (s1.label, s2.label):\n",
        "            #     new_edges.append(n)\n",
        "            #     continue\n",
        "\n",
        "            if n.source in nodes_to_remove and n.destination in nodes_to_remove:\n",
        "                continue\n",
        "\n",
        "\n",
        "            if n.source == s2.label:\n",
        "                if (n.label, n.source, n.destination) in edges_available:\n",
        "                    edges_available.remove((n.label, n.source, n.destination))\n",
        "                    new_edges.remove(n)\n",
        "\n",
        "                if s2 == dfa.starting_state[0] and s1 not in dfa.starting_state:\n",
        "                    dfa.starting_state.append(s1)\n",
        "\n",
        "                n.source = s1.label\n",
        "\n",
        "            if n.destination == s2.label:\n",
        "                if (n.label, n.source, n.destination) in edges_available:\n",
        "                    edges_available.remove((n.label, n.source, n.destination))\n",
        "                    new_edges.remove(n)\n",
        "\n",
        "                if s2 == dfa.starting_state[0] and s1 not in dfa.starting_state:\n",
        "                    dfa.starting_state.append(s1)\n",
        "                n.destination = s1.label\n",
        "\n",
        "\n",
        "            if (n.label, n.source, n.destination) not in edges_available:\n",
        "                edges_available.add((n.label, n.source, n.destination))\n",
        "                new_edges.append(n)\n",
        "\n",
        "\n",
        "\n",
        "        if s2.label not in nodes_to_remove:\n",
        "            nodes_to_remove.append(s2.label)\n",
        "\n",
        "\n",
        "\n",
        "\n",
        "    for n in nodes_to_remove:\n",
        "        st = dfa.get_state(n)\n",
        "        dfa.delete_state(st)\n",
        "\n",
        "    visualize_min_DFA(dfa)\n",
        "\n",
        "\n",
        "    return dfa\n",
        "\n",
        "\n",
        "# regex = input()\n",
        "# dfa = regex_to_DFA(regex)\n",
        "# pairs_dict = min_DFA(dfa)\n",
        "# new_dfa = graph_minimized(dfa, pairs_dict)\n",
        "# all_states = list(set((new_dfa.starting_state + new_dfa.accepting_state + new_dfa.inner_states)))\n",
        "# for s in all_states:\n",
        "#     print(s.label)\n",
        "#     for e in s.get_outgoing_edges():\n",
        "#         print(str(e))\n"
      ],
      "metadata": {
        "id": "76cn5jI2XWSo"
      },
      "execution_count": 185,
      "outputs": []
    },
    {
      "cell_type": "code",
      "source": [
        "def regex_to_minimized_DFA(regex):\n",
        "    dfa = regex_to_DFA(regex)\n",
        "\n",
        "    if dfa == \"Invalid Regex\":\n",
        "        return dfa\n",
        "\n",
        "    pairs_dict = min_DFA(dfa)\n",
        "    new_dfa = graph_minimized(dfa, pairs_dict)\n",
        "    get_json_from_DFA(new_dfa)"
      ],
      "metadata": {
        "id": "CjpPmI6HDnrf"
      },
      "execution_count": 186,
      "outputs": []
    },
    {
      "cell_type": "markdown",
      "source": [
        "# main function"
      ],
      "metadata": {
        "id": "3TuLolkPG9em"
      }
    },
    {
      "cell_type": "code",
      "source": [
        "regex = input()\n",
        "regex_to_minimized_DFA(regex)"
      ],
      "metadata": {
        "id": "Axl0-juwWfir",
        "colab": {
          "base_uri": "https://localhost:8080/",
          "height": 615
        },
        "outputId": "77a75d72-c1f9-459b-c903-7ed6a9ef1ac8"
      },
      "execution_count": 229,
      "outputs": [
        {
          "output_type": "stream",
          "name": "stdout",
          "text": [
            "[a-zA-Z_$][a-zA-Z0-9_$]*\n",
            "The NFA type is Concatination and has starting state = S0, 4 inner states, and accepting state = S5\n"
          ]
        },
        {
          "output_type": "display_data",
          "data": {
            "image/png": "[encoded data removed]",
            "text/plain": [
              "<IPython.core.display.Image object>"
            ]
          },
          "metadata": {}
        },
        {
          "output_type": "stream",
          "name": "stdout",
          "text": [
            "\n",
            "The DFA has 1 starting states, 1 inner states, and 2 accepting state\n"
          ]
        },
        {
          "output_type": "display_data",
          "data": {
            "image/png": "[encoded data removed]",
            "text/plain": [
              "<IPython.core.display.Image object>"
            ]
          },
          "metadata": {}
        },
        {
          "output_type": "stream",
          "name": "stdout",
          "text": [
            "\n",
            "The DFA has 1 starting states, 1 inner states, and 2 accepting state\n"
          ]
        },
        {
          "output_type": "display_data",
          "data": {
            "image/png": "[encoded data removed]",
            "text/plain": [
              "<IPython.core.display.Image object>"
            ]
          },
          "metadata": {}
        },
        {
          "output_type": "stream",
          "name": "stdout",
          "text": [
            "\n",
            "The DFA has 1 starting states, 1 inner states, and 1 accepting state\n"
          ]
        },
        {
          "output_type": "display_data",
          "data": {
            "image/png": "[encoded data removed]",
            "text/plain": [
              "<IPython.core.display.Image object>"
            ]
          },
          "metadata": {}
        }
      ]
    },
    {
      "cell_type": "code",
      "source": [],
      "metadata": {
        "id": "RyMDGtVOPHp9"
      },
      "execution_count": 217,
      "outputs": []
    }
  ]
}